{
 "cells": [
  {
   "attachments": {},
   "cell_type": "markdown",
   "metadata": {
    "datalore": {
     "hide_input_from_viewers": false,
     "hide_output_from_viewers": false,
     "node_id": "zRUhUA566pkkDHTDPU9Y1Y",
     "report_properties": {
      "relativeY": 0,
      "rowId": "mQhnzITY2TysxU5U1v39hB"
     },
     "type": "MD"
    }
   },
   "source": [
    "# Marine Computer Science Lab - ML & AI project"
   ]
  },
  {
   "attachments": {},
   "cell_type": "markdown",
   "metadata": {
    "datalore": {
     "hide_input_from_viewers": false,
     "hide_output_from_viewers": false,
     "node_id": "qzERhm8xTvuvv1xN9k1QU6",
     "report_properties": {
      "relativeY": 0,
      "rowId": "tz2onUZ0ZmAvujMxpwkmF5"
     },
     "type": "MD"
    }
   },
   "source": [
    "### Importing packages and loading dataset"
   ]
  },
  {
   "cell_type": "code",
   "execution_count": null,
   "metadata": {
    "datalore": {
     "hide_input_from_viewers": false,
     "hide_output_from_viewers": false,
     "node_id": "AfCqhEiwvBXqas04jGQql1",
     "report_properties": {
      "relativeY": 0,
      "rowId": "wtQ4L1pXe7kmwsycWFCwyE"
     },
     "type": "CODE"
    }
   },
   "outputs": [],
   "source": [
    "from utilities import *\n",
    "\n",
    "# Reading data from a CSV file hosted on Github\n",
    "raw_df = pd.read_csv('https://raw.githubusercontent.com/edv1hu/TMR4345-Project-ML/main/data.csv')\n",
    "# Setting the default style for Seaborn plots to darkgrid\n",
    "# and increasing the font size\n"
   ]
  },
  {
   "cell_type": "code",
   "execution_count": null,
   "metadata": {
    "datalore": {
     "hide_input_from_viewers": false,
     "hide_output_from_viewers": false,
     "node_id": "ejLexr3NcS5rA8QjCBobUm",
     "report_properties": {
      "relativeY": 0,
      "rowId": "G2cPUaxy6t7KCgnAQ0qEr5"
     },
     "type": "CODE"
    }
   },
   "outputs": [],
   "source": [
    "# Checking the dataset\n",
    "raw_df.head()"
   ]
  },
  {
   "cell_type": "code",
   "execution_count": null,
   "metadata": {
    "datalore": {
     "hide_input_from_viewers": false,
     "hide_output_from_viewers": false,
     "node_id": "LEH6YZrJiGlfKPLHltOPLk",
     "report_properties": {
      "relativeY": 0,
      "rowId": "tSmpX5NLMUEhPrTgvpuDlu"
     },
     "type": "CODE"
    }
   },
   "outputs": [],
   "source": [
    "raw_df.Trip_no.value_counts()\n",
    "#raw_df.columns"
   ]
  },
  {
   "attachments": {},
   "cell_type": "markdown",
   "metadata": {
    "datalore": {
     "hide_input_from_viewers": false,
     "hide_output_from_viewers": false,
     "node_id": "bmQo2vhLWAk5bHcz9wbqzB",
     "report_properties": {
      "relativeY": 0,
      "rowId": "6bOvSuOfY464rxLnnyOJXN"
     },
     "type": "MD"
    }
   },
   "source": [
    "# Task 1: Data Exploration & Visualization "
   ]
  },
  {
   "attachments": {},
   "cell_type": "markdown",
   "metadata": {
    "datalore": {
     "hide_input_from_viewers": false,
     "hide_output_from_viewers": false,
     "node_id": "JBf9gYywHLYZ3NBnhX5AIS",
     "report_properties": {
      "relativeY": 0,
      "rowId": "6ED8zWm9k96csRFpr5QcSu"
     },
     "type": "MD"
    }
   },
   "source": [
    "## a) Statistical properties"
   ]
  },
  {
   "cell_type": "code",
   "execution_count": null,
   "metadata": {
    "datalore": {
     "hide_input_from_viewers": false,
     "hide_output_from_viewers": false,
     "node_id": "3HEuJZqqywK71IvYer1Hib",
     "report_properties": {
      "relativeY": 0,
      "rowId": "rTsHlCVQ4t1oFx9SplCLig"
     },
     "type": "CODE"
    }
   },
   "outputs": [],
   "source": [
    "# Generate descriptive statistics for the data\n",
    "raw_df.describe()"
   ]
  },
  {
   "attachments": {},
   "cell_type": "markdown",
   "metadata": {
    "datalore": {
     "hide_input_from_viewers": false,
     "hide_output_from_viewers": false,
     "node_id": "k3XVv66FhBYUq2AJxgRTfs",
     "report_properties": {
      "relativeY": 0,
      "rowId": "zYdyF6nGyWKaQBAKfxdiDe"
     },
     "type": "MD"
    }
   },
   "source": [
    "## b) Histograms with its mean, median and mode"
   ]
  },
  {
   "cell_type": "code",
   "execution_count": null,
   "metadata": {
    "datalore": {
     "hide_input_from_viewers": false,
     "hide_output_from_viewers": false,
     "node_id": "NphOjhtB2ezJdDIQW63UaR",
     "report_properties": {
      "relativeY": 0,
      "rowId": "34WbKtBEMUbtiBMFdbIIiG"
     },
     "type": "CODE"
    }
   },
   "outputs": [],
   "source": [
    "plot_histograms(raw_df)"
   ]
  },
  {
   "attachments": {},
   "cell_type": "markdown",
   "metadata": {
    "datalore": {
     "hide_input_from_viewers": false,
     "hide_output_from_viewers": false,
     "node_id": "VAQRTYikqS8s5QkWkNAK4z",
     "report_properties": {
      "relativeY": 0,
      "rowId": "nETHLcgubuFnNI5gos8sFi"
     },
     "type": "MD"
    }
   },
   "source": [
    "### b) Is the data symmetrically distributed?\n",
    "\n",
    "From the skew function below we see that *n* and *Trip_no* has the lowest skewness, but show a clear pattern for each trip and is far from normally distributed.\n",
    "\n",
    "*calm_r, wave_dir, wind_V *and* wind_V_long* have skewness under 0.25, and show some signs of symmetry. *wind_V* and *wind_V_long* also show signs of being somewhat normally distributed.\n",
    "\n",
    "The rest of the variables isn't very symmetrical based on the skewness, but we can see some small signs visually. *Hs* is expected to be Rayleigh distributed and therefore not be very symmetrical, but would probably be more symmetrical after removing some/the outliers. Tp and added_r show signs of symmetry around the main peak.  "
   ]
  },
  {
   "cell_type": "code",
   "execution_count": null,
   "metadata": {
    "datalore": {
     "hide_input_from_viewers": false,
     "hide_output_from_viewers": false,
     "node_id": "gYqufop4Hx8cjRPsvQ7Cgk",
     "report_properties": {
      "relativeY": 0,
      "rowId": "9dShhYS5Mrtr9cvffpcNWU"
     },
     "type": "CODE"
    }
   },
   "outputs": [],
   "source": [
    "# Calculate the skewness of each column in the dataframe\n",
    "raw_df.skew().round(3)"
   ]
  },
  {
   "attachments": {},
   "cell_type": "markdown",
   "metadata": {
    "datalore": {
     "hide_input_from_viewers": false,
     "hide_output_from_viewers": false,
     "node_id": "tSNGbPSGLCzZqnbdoVuqAI",
     "report_properties": {
      "relativeY": 0,
      "rowId": "WhWYA9cm4XM09k7QY7ZB7R"
     },
     "type": "MD"
    }
   },
   "source": [
    "## c) Abnormal, invalid or unrealistic values \n",
    "\n",
    "- The peak wave period, Tp, shows unrealistic values. Especially, the high count of $Tp \\approx 100 s$ is noticeable.We know the usual range for regular waves is between 5s and 25s. To have some safety factor, I've removed values over 30s. The lower values seem ok, as the lowest Tp is 2.84s. \n",
    "\n",
    "- The unrealistic high count of low *Hs*-values ($Hs \\approx 0$) corresponds to the high *Tp*-values and is also removed by removing all the rows with Tp over 30s.\n",
    "  \n",
    "- The high count of ***wind_dir, wind_V_trans*** $\\approx 0$ and the abnormal peaks for *wind_V* and *wind_V_long* (seen by the modes) also corresponds with the rows mentioned above, and it seems ok to remove the whole rows with unrealistically high *Tp*-values.\n",
    "\n",
    "- I considered removing trip 6 and 11 due to few datapoints, but the datapoints are fine, so it's more valuable to keep as many datapoints as possible\n",
    "  "
   ]
  },
  {
   "cell_type": "code",
   "execution_count": null,
   "metadata": {
    "datalore": {
     "hide_input_from_viewers": false,
     "hide_output_from_viewers": false,
     "node_id": "1MW1831IJvfZniMPe9mSqh",
     "report_properties": {
      "relativeY": 0,
      "rowId": "PEQJfIogWZqoPG6YyliiYx"
     },
     "type": "CODE"
    }
   },
   "outputs": [],
   "source": [
    "# Identify rows in the DataFrame where the 'Tp' is greater than 30\n",
    "# Saving/copying these as outlies\n",
    "outliers = raw_df.loc[(raw_df.Tp >30)].copy()\n",
    "\n",
    "# Create a new DataFrame 'df' without the outliers\n",
    "df = raw_df.drop(outliers.index)"
   ]
  },
  {
   "attachments": {},
   "cell_type": "markdown",
   "metadata": {
    "datalore": {
     "hide_input_from_viewers": false,
     "hide_output_from_viewers": false,
     "node_id": "LE1m3Sb9JV5qFwWZAJ7AA0",
     "report_properties": {
      "relativeY": 0,
      "rowId": "ZwW8xo51tr0tciqIU7bnqB"
     },
     "type": "MD"
    }
   },
   "source": [
    "## d) Time-series with erroneous samples\n",
    "\n",
    "These samples are erroneous since the Tp is unrealistically high and Hs very low. It also cleans up discrepancies with the wind-variables. \n",
    "\n",
    "I've also noticed 2 peaks in the timeseries of added_r and tot_r that I don't understand completely. Every trip seems to have the highest peaks around the same time, around 2300 and 9000 datapoints into each trip. \n"
   ]
  },
  {
   "cell_type": "code",
   "execution_count": null,
   "metadata": {
    "datalore": {
     "hide_input_from_viewers": false,
     "hide_output_from_viewers": false,
     "node_id": "zjHesHmYEWPYCqUhRXeNzN",
     "report_properties": {
      "relativeY": 0,
      "rowId": "YwBamQOGBYCNFmobM05xko"
     },
     "type": "CODE"
    }
   },
   "outputs": [],
   "source": [
    "plot_grouped_scatterplots(df, 'Trip_no', outliers)\n"
   ]
  },
  {
   "attachments": {},
   "cell_type": "markdown",
   "metadata": {
    "datalore": {
     "hide_input_from_viewers": false,
     "hide_output_from_viewers": false,
     "node_id": "XARWhH3QPcgDOlRJ6SoLii",
     "report_properties": {
      "relativeY": 0,
      "rowId": "mdfkja6ogwih5VrEBeFfMb"
     },
     "type": "MD"
    }
   },
   "source": [
    "# Task 2: Data Analysis & Correlation Study\n",
    "\n",
    "## a) Heatmap with Pearson's correlation"
   ]
  },
  {
   "cell_type": "code",
   "execution_count": null,
   "metadata": {
    "datalore": {
     "hide_input_from_viewers": false,
     "hide_output_from_viewers": false,
     "node_id": "MUIPDDGpDHvX3plcnl3rGt",
     "report_properties": {
      "relativeY": 0,
      "rowId": "oJPDGtygrbBGSxU8diG5zo"
     },
     "type": "CODE"
    }
   },
   "outputs": [],
   "source": [
    "# Set fontsize of the plot\n",
    "sns.set(font_scale=1)\n",
    "\n",
    "# Create a heatmap of the correlation matrix\n",
    "fig = plt.figure(figsize=(15,12))\n",
    "fig = sns.heatmap(data = df.corr(), cmap = 'Blues', annot = True, linewidths=0.5)"
   ]
  },
  {
   "attachments": {},
   "cell_type": "markdown",
   "metadata": {
    "datalore": {
     "hide_input_from_viewers": false,
     "hide_output_from_viewers": false,
     "node_id": "NS2tK8sC3TDlraGD9ExKuK",
     "report_properties": {
      "relativeY": 0,
      "rowId": "3avRdRqHW6O6VfitOKcqMq"
     },
     "type": "MD"
    }
   },
   "source": [
    "## b) Cross-plots"
   ]
  },
  {
   "cell_type": "code",
   "execution_count": null,
   "metadata": {
    "datalore": {
     "hide_input_from_viewers": false,
     "hide_output_from_viewers": false,
     "node_id": "TNO5NtwDg7CGbTBsJMAcJG",
     "report_properties": {
      "relativeY": 0,
      "rowId": "LZdwC8OjcJhWJa305teLOZ"
     },
     "type": "CODE"
    }
   },
   "outputs": [],
   "source": [
    "# Create cross-plots with kernel density estimates on the diagonal\n",
    "sns.set(font_scale = 2)\n",
    "sns.pairplot(data=df , diag_kind='kde')"
   ]
  },
  {
   "cell_type": "code",
   "execution_count": null,
   "metadata": {
    "datalore": {
     "hide_input_from_viewers": false,
     "hide_output_from_viewers": false,
     "node_id": "achnjd9rfOTVwktPopjRhc",
     "report_properties": {
      "relativeY": 0,
      "rowId": "Ycr8o3tJp4UQNK7fgGJ4RJ"
     },
     "type": "CODE"
    }
   },
   "outputs": [],
   "source": [
    "sns.set(font_scale = 1)\n",
    "# plot wind_V_long,Hs vs power/V, hue=n\n",
    "sns.scatterplot(x =df.V, y = df.wind_V_long, hue = df.n )\n",
    "\n",
    "# coloring the plots with the most important variable of the dataset gives another dimention and makes it easier\n",
    "# to understand the dataset.\n",
    "# Here we see a clear difference in rpm for similar speed at different longitudinal wind speeds. High wind_V_long \n",
    "# results in higher n relative to the same V with lower wind_V_long. This is because of the added resistance."
   ]
  },
  {
   "attachments": {},
   "cell_type": "markdown",
   "metadata": {
    "datalore": {
     "hide_input_from_viewers": false,
     "hide_output_from_viewers": false,
     "node_id": "U1RUAzJu25zxmAghZuUZkM",
     "report_properties": {
      "relativeY": 0,
      "rowId": "w3Rn7i4lfJTILVNqDujNIy"
     },
     "type": "MD"
    }
   },
   "source": [
    "### b) Variable correlations \n",
    "\n",
    "**Strong (S)/ Weak (W), Positive (P)/ Negative (N) , Linear (L)/Non-linear (NL)** <br>\n",
    "Eks. S,P,L = Strong, Positive, Linear \n",
    "\n",
    "Some relations are neither positive or negative, ex. Hs vs P, but I've understood the task to choose one of them either way. So I've based my answers on the signs in the heatmap/correlations.\n",
    "\n",
    "Weak/Strong is based on the absolute correlation value being over or under 0.5. This is a little bit wrong as the correlation only is for linear correlation, but it should be good enough for this task as you said\n",
    "\n",
    "Linear/non-linear is based on visual interpretation, but flat lines or bulks of datapoints that show little to no signs of correlations is set to Non-linear. Had a hard time determining the results because of the the different trips, maybe I it would be easier if I looked at a pairplot for only 1 trip?\n",
    "\n",
    "\n",
    "|       | P  | Tp  | V   | added_r | calm_r | n  | tot_r | wave_dir | wind_V | wind_dir | wind_V_long | wind_V_trans | Trip_no |\n",
    "| :---: | ---| --- | --- | --- | --- | --- | --- |--- | --- | --- | --- |--- | --- | \n",
    "|**Hs** |W , N , NL|W, P, NL| W, N, NL| W, P, NL|W, N, NL|W, N, NL| W, P, NL|W, P, NL|W, P, NL|W, N, NL|W, N, NL| W, P, NL| W, P, NL| \n",
    "| **P** |    |W, N, NL|S, P, L| W, N, NL|S, P, NL|S, P, NL|S, P, NL|W, N, NL|W, P, NL|W, P, NL|W, P, NL|W, P, NL|S, P, NL|\n",
    "| **Tp** |   |     |W, N, NL|W, P, NL|W, N, NL|W, N, NL|W, P, NL|W, P,  NL|W, N, NL|W, N, NL|W, N, NL|W, N, NL|W, P, NL|\n",
    "| **V** |    |     |     |S,N, NL|S,P, NL|S,P, L|S,P, NL|W, N, NL|W, N, NL|W, P, NL|W, P, L|W, N, NL|S,P, NL|\n",
    "| **added_r** | |     |     |     | S, N, L |W,N,  NL|S, P, L|W, P, NL|W, P, NL|W, P, NL|W, P, NL|W, P, NL|W, N, NL|\n",
    "| **calm_r** | |     |     |     |     |S, P, NL|S, P, NL|W, N, NL|W, N, NL|W, P, NL|W, P, NL|W, N, NL|S, P, NL|\n",
    "| **n** | |     |     |     |     |    |S, P, L|W, N, NL|W, P, NL|W, P, NL|W, P, NL|W, N, NL|S, P, L|\n",
    "| **tot_r** | |     |     |     |     |    |      |W, P, NL|W, P, NL|W, P, NL|W, P, NL|W, P, NL| S, P, NL|   \n",
    "| **wave_dir** | |     |     |     |     |    |      |      |S, P, NL|W, P, NL|S, P, NL|W, P, NL|W, P, NL|   \n",
    "| **wind_V** | |     |     |     |     |    |      |      |           |S, P, NL|S, P, NL|W, P, NL|W, P, NL|   \n",
    "| **wind_dir** | |     |     |     |     |    |      |      |           |        |S, P, NL|W, N, NL|W, P, NL|  \n",
    "| **wind_V_long** | |     |     |     |     |    |      |      |           |        |          |W, P, NL|W, P, NL|  \n",
    "| **wind_V_trans** | |     |     |     |     |    |      |      |           |        |          |            |W, P, NL|   "
   ]
  },
  {
   "attachments": {},
   "cell_type": "markdown",
   "metadata": {
    "datalore": {
     "hide_input_from_viewers": false,
     "hide_output_from_viewers": false,
     "node_id": "kViTBE5ROhxQcsAAIyqDoI",
     "report_properties": {
      "relativeY": 0,
      "rowId": "SjmQXd4SNnEzQPvvYL7nA7"
     },
     "type": "MD"
    }
   },
   "source": [
    "## c) Dependent and Independent variables & functional relationship \n",
    "\n",
    "|  Independent variables | Dependent variables | Functional relationship |\n",
    "| :---: | :---: | --- |\n",
    "| Hs | P | P = f(n, Trip_no, Tp, Hs, wave_dir, wind_V_long, wind_V_trans) |\n",
    "| Tp | V | V = f(n, Trip_no, Tp, Hs, wave_dir, wind_V_long, wind_V_trans) |\n",
    "|  n | added_r | added_r = f(Tp, Hs, wave_dir, wind_V_long, wind_V_trans) |\n",
    "| wave_dir |  calm_r | calm_r = f(n, Trip_no) |\n",
    "|  wind_V | tot_r | tot_r = f(n, Trip_no, Tp, Hs, wave_dir, wind_V_long, wind_V_trans) |\n",
    "| wind_dir | \n",
    "| wind_V_long | \n",
    "| wind_V_trans |\n",
    "| Trip_no (draft) |"
   ]
  },
  {
   "cell_type": "code",
   "execution_count": null,
   "metadata": {
    "datalore": {
     "hide_input_from_viewers": false,
     "hide_output_from_viewers": true,
     "node_id": "q7XsYxbaZrR1YEtnmkmagX",
     "report_properties": {
      "relativeY": 0,
      "rowId": "uYDcFWlswhfZ9CgFZ1mzYN"
     },
     "type": "CODE"
    }
   },
   "outputs": [],
   "source": [
    "# Dictionary with dependent variables and functional relationships\n",
    "functional_relationship = {\n",
    "    'P' : ['n', 'Trip_no', 'Tp', 'Hs', 'wave_dir','wind_V_long', 'wind_V_trans'],\n",
    "    'V' : ['n', 'Trip_no', 'Tp', 'Hs', 'wave_dir','wind_V_long', 'wind_V_trans'],\n",
    "    'added_r'   : ['Tp', 'Hs', 'wave_dir','wind_V_long', 'wind_V_trans'],\n",
    "    'calm_r'    : ['n', 'Trip_no'],\n",
    "    'tot_r'     : ['n', 'Trip_no', 'Tp', 'Hs', 'wave_dir','wind_V_long', 'wind_V_trans']\n",
    "} #Might neglecy trans_V"
   ]
  },
  {
   "attachments": {},
   "cell_type": "markdown",
   "metadata": {
    "datalore": {
     "hide_input_from_viewers": false,
     "hide_output_from_viewers": false,
     "node_id": "QZAJi5VUzVVC1TTZlVdNIo",
     "report_properties": {
      "relativeY": 0,
      "rowId": "J6XyabUUtdSqjUI3s6gT5T"
     },
     "type": "MD"
    }
   },
   "source": [
    "## d) Data good enough for regression analysis? \n",
    "\n",
    "Yes, the dataset should be large enough to provide a good representation of the underlying relationship between the independent and dependent variables. With 9400 rows per trip (except trip 6 and 11 with only 1500 rows), it could be considered as a large dataset. The dataset also has independent variables to represent the dependent variables, and the dataset is cleaned to reduce abnormal values.\n",
    "\n",
    "\n",
    "It's important to have the most important independent variables so the dataset can make good predictions of the dependent variables. In this dataset it's especially important to have n, as it's the highest correlation to most of the dependant variables. From the \"Ship's hydrodynamic model\" we also see that our dataset has most of the necessary variables to determine Speed, power, etc. The variables we lack is: Current (longitudinal speed), Draft, trim and rudder angle. But in this dataset the trim is set to 0, draft is increased uniformly with each trip and all directions is relative to the ships heading. Therefor, we have enough information to make a good regression analysis. "
   ]
  },
  {
   "attachments": {},
   "cell_type": "markdown",
   "metadata": {
    "datalore": {
     "hide_input_from_viewers": false,
     "hide_output_from_viewers": false,
     "node_id": "O7er2XgFa0kltyEO29vNqs",
     "report_properties": {
      "relativeY": 0,
      "rowId": "mkf6wNIK9J1TpAJaSV15dn"
     },
     "type": "MD"
    }
   },
   "source": [
    "## e) Additional variables \n",
    "\n",
    "Draft - The trips have different loading, resulting in different resistance for approximately the same weather conditions and n. Later recieved information that Trip_no represent the draft as the draft is uniformly increased for each trip. Still, having the real draft could be valuable for a better understanding of the increased resistance and to improve the analysis.\n",
    "\n",
    "Reynolds number, Froudes number - Thought about adding these, but they would mainly be another representation of V.\n",
    "\n",
    "TRIM - Should be added as it affects the ships hydrodynamics, but in this case the trim = 0 for all trips\n",
    "\n",
    "RUDDER ANGLE - It's important as it helps determine the hydrodynamic forces acting on the ships hull and the resulting changes in the ship motion. Also, if the wave/wind directions wasn't given relative to the ship heading, then if would be valuable to know the ship heading or use the rudder angle\n",
    "\n",
    "CURRENT, LONGTUDINAL SPEED - As its another factor affecting the added resistance it should be used if its possible to get hold of the data, as it could further improve the model.\n",
    "\n",
    "WAVE ENERGY - Also looked into the possebility to represent the wave forces in a longtudinal and transverse way, as it might be a better representation then only having Hs, Tp and the direction, but of course this wasn't straight forward. In theory, I believe it would improve the model. "
   ]
  },
  {
   "attachments": {},
   "cell_type": "markdown",
   "metadata": {
    "datalore": {
     "hide_input_from_viewers": false,
     "hide_output_from_viewers": false,
     "node_id": "rlajBXnGHDlM0bQg8GWB9E",
     "report_properties": {
      "relativeY": 0,
      "rowId": "uja9EPe9o8n5gIIB8ShdxB"
     },
     "type": "MD"
    }
   },
   "source": [
    "# Task 3: Regression Modeling\n",
    "\n",
    "## a) Training, validation and test-set \n",
    "\n",
    "First, I've tried to split the data in a random 60/20/20 split, but this causes the three datasets to have near identical samples. For example, this makes RandomForests unrealistically accurate. \n",
    "\n",
    "Therefore, a split should be of continuous sections of time-series. So I've decided to use two regular trips (not from the extremes) as test-set, one regular trip as the validation-set and the rest as training set. This makes for a train/validation/test split of 68/11/21. "
   ]
  },
  {
   "cell_type": "code",
   "execution_count": null,
   "metadata": {
    "datalore": {
     "hide_input_from_viewers": false,
     "hide_output_from_viewers": false,
     "node_id": "AF3SoSUFmno9h6jGIBBgUY",
     "report_properties": {
      "relativeY": 0,
      "rowId": "6Y4vqlYe5EoHeEpA9P63mP"
     },
     "type": "CODE"
    }
   },
   "outputs": [],
   "source": [
    "train_df, valid_df, test_df = divide_data(df, [3, 9], 7)\n"
   ]
  },
  {
   "cell_type": "code",
   "execution_count": null,
   "metadata": {
    "datalore": {
     "hide_input_from_viewers": false,
     "hide_output_from_viewers": false,
     "node_id": "ZNk4d45TvJWMjxVmOk7Bzc",
     "report_properties": {
      "relativeY": 0,
      "rowId": "3LIraaaKv5SvwnVFT9Raaw"
     },
     "type": "CODE"
    }
   },
   "outputs": [],
   "source": [
    "plot_data_scatter(train_df, valid_df, test_df, 'n', 'P')"
   ]
  },
  {
   "attachments": {},
   "cell_type": "markdown",
   "metadata": {
    "datalore": {
     "hide_input_from_viewers": false,
     "hide_output_from_viewers": false,
     "node_id": "WB24nHmkXzxdDpq5TMbqNJ",
     "report_properties": {
      "relativeY": 0,
      "rowId": "ilZHTedASOQy0Bv93mJ9gB"
     },
     "type": "MD"
    }
   },
   "source": [
    "## b) Standardizing the data using mean and standard deviation of the training data"
   ]
  },
  {
   "cell_type": "code",
   "execution_count": null,
   "metadata": {
    "datalore": {
     "hide_input_from_viewers": false,
     "hide_output_from_viewers": false,
     "node_id": "uifSTHkzLPaG591XORSLxN",
     "report_properties": {
      "relativeY": 0,
      "rowId": "57lqteKVwsIqignjdMgy5l"
     },
     "type": "CODE"
    }
   },
   "outputs": [],
   "source": [
    "\n",
    "\n",
    "std_df_train, std_df_val, std_df_test = standardization(train_df, valid_df, test_df)"
   ]
  },
  {
   "attachments": {},
   "cell_type": "markdown",
   "metadata": {
    "datalore": {
     "hide_input_from_viewers": true,
     "hide_output_from_viewers": false,
     "node_id": "ep5CM8qKBLXRvwgD2WDvQH",
     "report_properties": {
      "relativeY": 0,
      "rowId": "JxGAbMJkxnAoLJdAYKB8aI"
     },
     "type": "MD"
    }
   },
   "source": [
    "## c) Linear regression models"
   ]
  },
  {
   "cell_type": "code",
   "execution_count": null,
   "metadata": {
    "datalore": {
     "hide_input_from_viewers": false,
     "hide_output_from_viewers": true,
     "node_id": "FD55mOAHW1B7aQBfzrs3qI",
     "report_properties": {
      "relativeY": 0,
      "rowId": "YRceFAoJJ9rAaDKOPawuaK"
     },
     "type": "CODE"
    }
   },
   "outputs": [],
   "source": [
    "lasso_models = lasso_reg_models(functional_relationship, std_df_train, std_df_val, std_df_test)"
   ]
  },
  {
   "cell_type": "code",
   "execution_count": null,
   "metadata": {
    "datalore": {
     "hide_input_from_viewers": false,
     "hide_output_from_viewers": true,
     "node_id": "qX4ECoIwwMT9yscPA52f4R",
     "report_properties": {
      "relativeY": 0,
      "rowId": "rDim8ddZ7w5EuHcTPZJuYy"
     },
     "type": "CODE"
    }
   },
   "outputs": [],
   "source": [
    "ridge_models = ridge_reg_models(functional_relationship, std_df_train, std_df_val, std_df_test)"
   ]
  },
  {
   "cell_type": "code",
   "execution_count": null,
   "metadata": {
    "datalore": {
     "hide_input_from_viewers": true,
     "hide_output_from_viewers": true,
     "node_id": "dFa0JG4XtYyKJ3EBIHJyUN",
     "type": "CODE"
    }
   },
   "outputs": [],
   "source": [
    "# models = lin_reg_models(functional_relationship, std_df_train, std_df_val, std_df_test)"
   ]
  },
  {
   "cell_type": "code",
   "execution_count": null,
   "metadata": {
    "datalore": {
     "hide_input_from_viewers": false,
     "hide_output_from_viewers": false,
     "node_id": "BKIQKWqNHxKF94cX2F91QG",
     "report_properties": {
      "relativeY": 0,
      "rowId": "8mAmHlDLu6fiEFGoWn4wL8"
     },
     "type": "CODE"
    }
   },
   "outputs": [],
   "source": [
    "lasso_results = evaluate_models(lasso_models, functional_relationship, std_df_train, std_df_val, std_df_test)\n",
    "\n",
    "#evaluate_models(ridge_models, functional_relationship, std_df_train, std_df_val, std_df_test)\n"
   ]
  },
  {
   "attachments": {},
   "cell_type": "markdown",
   "metadata": {
    "datalore": {
     "hide_input_from_viewers": true,
     "hide_output_from_viewers": false,
     "node_id": "ycSOLkRjjvOonoE0Rxun4O",
     "report_properties": {
      "relativeY": 0,
      "rowId": "d1CEZ3r75jSxOD6pMu1Izn"
     },
     "type": "MD"
    }
   },
   "source": [
    "## d) Non-linear regression models"
   ]
  },
  {
   "cell_type": "code",
   "execution_count": null,
   "metadata": {
    "datalore": {
     "hide_input_from_viewers": false,
     "hide_output_from_viewers": false,
     "node_id": "FiLq78PZoUdzf0ohnsj8aT",
     "report_properties": {
      "relativeY": 0,
      "rowId": "Y5ogjembpCWtC8f38C9Ybk"
     },
     "type": "CODE"
    }
   },
   "outputs": [],
   "source": [
    "models_MLP = MLP_models(functional_relationship, std_df_train, std_df_val, std_df_test)"
   ]
  },
  {
   "cell_type": "code",
   "execution_count": null,
   "metadata": {
    "datalore": {
     "hide_input_from_viewers": false,
     "hide_output_from_viewers": false,
     "node_id": "DY4Dktpfhk0VkYwmR0evN0",
     "report_properties": {
      "relativeY": 0,
      "rowId": "knSVIESbwM89BUzRjCVf9R"
     },
     "type": "CODE"
    }
   },
   "outputs": [],
   "source": [
    "MLP_results = evaluate_models(models_MLP, functional_relationship, std_df_train, std_df_val, std_df_test)\n",
    "\n",
    "# Doesn't make too much sence to plot a correlation-plot for the non-linear model as I did for the linear model\n",
    "# mention possible overfitting"
   ]
  },
  {
   "attachments": {},
   "cell_type": "markdown",
   "metadata": {
    "datalore": {
     "hide_input_from_viewers": true,
     "hide_output_from_viewers": false,
     "node_id": "aWmADO8KZW5nEdagw61eVG",
     "report_properties": {
      "relativeY": 0,
      "rowId": "pMvtS9pJxsbtq7fjIYRqXV"
     },
     "type": "MD"
    }
   },
   "source": [
    "## e) Linear vs non-linear models\n",
    "\n",
    "### Is the linear approach good enough to perform the task? \n",
    "No, from my results the non-linear method does a much greater job. Especially, the validation set is a problem for the linear model. On the other hand, the MLP-models might be overfitting as it has very high training score, but on validation for P it has 0,16 R2-score, and 0,74 for tot_r. \n",
    "\n",
    "### Is it possible to further improve the results from the linear model?\n",
    "\n",
    "Yes, it would be possible to add non-linear transformations or split the data into more linear models so the 'resulting' model would be a combination of more than 1 linear model. With increasing number of models it would get closer to a non-linear model."
   ]
  },
  {
   "cell_type": "code",
   "execution_count": null,
   "metadata": {
    "datalore": {
     "hide_input_from_viewers": false,
     "hide_output_from_viewers": false,
     "node_id": "JC67qq1ZIZwCm4ETRVKufP",
     "report_properties": {
      "relativeY": 0,
      "rowId": "wYHXdSDRzeoBO6LuMhuKBt"
     },
     "type": "CODE"
    }
   },
   "outputs": [],
   "source": [
    "display(lasso_results, MLP_results)"
   ]
  },
  {
   "attachments": {},
   "cell_type": "markdown",
   "metadata": {
    "datalore": {
     "hide_input_from_viewers": true,
     "hide_output_from_viewers": false,
     "node_id": "efysPQRngJP6D7728oTHMj",
     "report_properties": {
      "relativeY": 0,
      "rowId": "WVHgF4kQOuQQI9K4e2cN6r"
     },
     "type": "MD"
    }
   },
   "source": [
    "## f) Plots of regressions residuals"
   ]
  },
  {
   "cell_type": "code",
   "execution_count": null,
   "metadata": {
    "datalore": {
     "hide_input_from_viewers": false,
     "hide_output_from_viewers": false,
     "node_id": "xmHdS0nBk6EqENAdssAzXc",
     "report_properties": {
      "relativeY": 0,
      "rowId": "zN2dPnYnx0uBftSWbU6B7d"
     },
     "type": "CODE"
    }
   },
   "outputs": [],
   "source": [
    "plot_residuals(lasso_models, functional_relationship, std_df_train,  std_df_val,std_df_test)"
   ]
  },
  {
   "attachments": {},
   "cell_type": "markdown",
   "metadata": {
    "datalore": {
     "hide_input_from_viewers": true,
     "hide_output_from_viewers": false,
     "node_id": "37z2WCMwcr9AEUByigzL2Z",
     "report_properties": {
      "relativeY": 0,
      "rowId": "vGIV8iyzHm9v02Xqsspwh8"
     },
     "type": "MD"
    }
   },
   "source": [
    "The residuals for the linear model shows a lot of non-linear relations, which makes sence for why it mostly performe quite bad. \n",
    "\n",
    "We also see that the model has trouble with 'following' each trip, making the models especially bad for some trips like Trip 7 / the validation set"
   ]
  },
  {
   "cell_type": "code",
   "execution_count": null,
   "metadata": {
    "datalore": {
     "hide_input_from_viewers": false,
     "hide_output_from_viewers": false,
     "node_id": "g5aMOTuiTsir3CAW12cjYu",
     "report_properties": {
      "relativeY": 0,
      "rowId": "174MeOHfaK1f2B0re7NzO1"
     },
     "type": "CODE"
    }
   },
   "outputs": [],
   "source": [
    "plot_residuals(models_MLP, functional_relationship, std_df_train, std_df_val, std_df_test)"
   ]
  },
  {
   "attachments": {},
   "cell_type": "markdown",
   "metadata": {
    "datalore": {
     "hide_input_from_viewers": true,
     "hide_output_from_viewers": false,
     "node_id": "VTE8FHuIyFvcvmfwTHt9lM",
     "report_properties": {
      "relativeY": 0,
      "rowId": "xM9e3Pz9gmWcMlpLLFFy1Z"
     },
     "type": "MD"
    }
   },
   "source": [
    "The residual plots for the Non-linear models show more uniform plots with constant variance - which is good. But we still see som patterns. Especially Tp has a the biggest errors at the mean value as we also saw on the linear models.  \n",
    "\n",
    "Also the residual plot of n for calm_r shows the trips as continous 'hyperbolas' or 'waves', maybe it indicates that the model has trouble with getting all the differences between the trips. Maybe I need more independent variables, or the model could be made with respect to each trip?\n",
    "\n",
    "In the P-model we also see an outlier in all the plots from trip 11."
   ]
  },
  {
   "attachments": {},
   "cell_type": "markdown",
   "metadata": {
    "datalore": {
     "hide_input_from_viewers": true,
     "hide_output_from_viewers": false,
     "node_id": "VCrg1OeA6YXw2ew1BprZMv",
     "report_properties": {
      "relativeY": 0,
      "rowId": "1FamNmOPA1pdBdsW4vt1QZ"
     },
     "type": "MD"
    }
   },
   "source": [
    "## Comparing different Non-linear models"
   ]
  },
  {
   "cell_type": "code",
   "execution_count": null,
   "metadata": {
    "datalore": {
     "hide_input_from_viewers": false,
     "hide_output_from_viewers": false,
     "node_id": "wBVmuTaTi7d02cuOMw70X6",
     "report_properties": {
      "relativeY": 0,
      "rowId": "5YDtdxHbLxNrUykQhkPcAB"
     },
     "type": "CODE"
    }
   },
   "outputs": [],
   "source": [
    "train_evaluate_NLmodels(functional_relationship, std_df_train, std_df_val, std_df_test)"
   ]
  }
 ],
 "metadata": {
  "datalore": {
   "base_environment": "default",
   "computation_mode": "REACTIVE",
   "package_manager": "pip",
   "packages": [],
   "report_row_ids": [
    "mQhnzITY2TysxU5U1v39hB",
    "tz2onUZ0ZmAvujMxpwkmF5",
    "wtQ4L1pXe7kmwsycWFCwyE",
    "G2cPUaxy6t7KCgnAQ0qEr5",
    "tSmpX5NLMUEhPrTgvpuDlu",
    "6bOvSuOfY464rxLnnyOJXN",
    "6ED8zWm9k96csRFpr5QcSu",
    "rTsHlCVQ4t1oFx9SplCLig",
    "zYdyF6nGyWKaQBAKfxdiDe",
    "34WbKtBEMUbtiBMFdbIIiG",
    "nETHLcgubuFnNI5gos8sFi",
    "9dShhYS5Mrtr9cvffpcNWU",
    "WhWYA9cm4XM09k7QY7ZB7R",
    "PEQJfIogWZqoPG6YyliiYx",
    "ZwW8xo51tr0tciqIU7bnqB",
    "YwBamQOGBYCNFmobM05xko",
    "mdfkja6ogwih5VrEBeFfMb",
    "oJPDGtygrbBGSxU8diG5zo",
    "3avRdRqHW6O6VfitOKcqMq",
    "LZdwC8OjcJhWJa305teLOZ",
    "Ycr8o3tJp4UQNK7fgGJ4RJ",
    "w3Rn7i4lfJTILVNqDujNIy",
    "SjmQXd4SNnEzQPvvYL7nA7",
    "uYDcFWlswhfZ9CgFZ1mzYN",
    "J6XyabUUtdSqjUI3s6gT5T",
    "mkf6wNIK9J1TpAJaSV15dn",
    "uja9EPe9o8n5gIIB8ShdxB",
    "6Y4vqlYe5EoHeEpA9P63mP",
    "3LIraaaKv5SvwnVFT9Raaw",
    "ilZHTedASOQy0Bv93mJ9gB",
    "57lqteKVwsIqignjdMgy5l",
    "JxGAbMJkxnAoLJdAYKB8aI",
    "rdQqGhmOVNDDBREg8NFh5L",
    "610wvinudvvilZIfLb66rx",
    "dX8lSiaFTqAUhcdHne28q7",
    "oB0Bk0PROXikMyDMG5n4AC",
    "hb14qPQXNQ3wHOI1upRo9N",
    "icAmKy4p7aJuugPWVPe4B1",
    "UN9ZkLs1S9EwFl9OPjbVQc",
    "Q4XckTlQ0rw80nvsSfA9w6",
    "YRceFAoJJ9rAaDKOPawuaK",
    "rDim8ddZ7w5EuHcTPZJuYy",
    "M0YCfDrbiGTmjr367WMFNt",
    "8mAmHlDLu6fiEFGoWn4wL8",
    "d1CEZ3r75jSxOD6pMu1Izn",
    "Y5ogjembpCWtC8f38C9Ybk",
    "knSVIESbwM89BUzRjCVf9R",
    "pMvtS9pJxsbtq7fjIYRqXV",
    "wYHXdSDRzeoBO6LuMhuKBt",
    "WVHgF4kQOuQQI9K4e2cN6r",
    "R4gKubZOxu9ysi8TEDuQ1R",
    "zN2dPnYnx0uBftSWbU6B7d",
    "vGIV8iyzHm9v02Xqsspwh8",
    "174MeOHfaK1f2B0re7NzO1",
    "xM9e3Pz9gmWcMlpLLFFy1Z",
    "1FamNmOPA1pdBdsW4vt1QZ",
    "5YDtdxHbLxNrUykQhkPcAB"
   ],
   "version": 3
  },
  "kernelspec": {
   "display_name": "Python 3",
   "language": "python",
   "name": "python3"
  },
  "language_info": {
   "codemirror_mode": {
    "name": "ipython",
    "version": 3
   },
   "file_extension": ".py",
   "mimetype": "text/x-python",
   "name": "python",
   "nbconvert_exporter": "python",
   "pygments_lexer": "ipython3",
   "version": "3.11.1"
  }
 },
 "nbformat": 4,
 "nbformat_minor": 4
}
